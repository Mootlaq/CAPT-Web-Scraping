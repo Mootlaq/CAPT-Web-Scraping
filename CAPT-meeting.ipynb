{
 "cells": [
  {
   "cell_type": "markdown",
   "metadata": {},
   "source": [
    "<div style=\"direction:rtl; text-align:right\">\n",
    "    \n",
    "# سحب محاضر الاجتماعات الاسبوعيّة لمجلس إدارة الجهاز المركزي من الموقع الرسمي\n",
    "<div style=\"direction:rtl; text-align:right\">\n",
    "يقوم هذا الملف بسحب محاضر الاجتماعات الاسبوعيّة من موقع الجهاز المركزي للمناقصات العامّة. يقوم الكود أدناه بعمل web scraping لجدول محاضر الاجتماع ثم يحفظ الجدول على شكل ملف csv  + يحفظ آخر ١٥ محضر اجتماع على شكل ملف PDF \n",
    "    \n",
    " \n",
    "    \n",
    "### مالهدف من هذا البرنامج؟\n",
    "<div style=\"direction:rtl; text-align:right\">\n",
    "يعرض موقع الجهاز المركزي للمناقصات العامّة - مشكوراً - محاضر اجتماعاته الإسبوعية والتي يعلن من خلالها طلبات الجهات الحكومية (طلبات تمديد عقود او طلبات التعاقد المباشر) بالإضافة لقرار الجهاز المركزي على هذه الطلبات. ولكن لا يوجد ارشيف لهذه المحاضر وهذا الهدف من هذا الكود حيث يتم ارشفة وحفظ هذه المحاضر.\n",
    "    \n",
    "<br>\n",
    "<br>\n",
    "<div style=\"direction:rtl; text-align:right\">\n",
    "عمل: مطلق المطيري"
   ]
  },
  {
   "cell_type": "markdown",
   "metadata": {},
   "source": [
    "### Libraries and dependencies\n",
    "- Pandas\n",
    "- BeautifulSoup\n",
    "- Selenium\n",
    "- Requests\n",
    "    - **Note:** Selenium requires a driver to interface with the chosen browser. Firefox, for example, requires geckodriver, which needs to be installed before the below examples can be run."
   ]
  },
  {
   "cell_type": "markdown",
   "metadata": {},
   "source": [
    "---"
   ]
  },
  {
   "cell_type": "markdown",
   "metadata": {},
   "source": [
    "# Start here"
   ]
  },
  {
   "cell_type": "code",
   "execution_count": 5,
   "metadata": {},
   "outputs": [],
   "source": [
    "from bs4 import BeautifulSoup\n",
    "from selenium import webdriver\n",
    "import pandas as pd\n",
    "from selenium.webdriver.firefox.options import Options #Used so that selenium doesn't open a Firefox window\n",
    "from pathlib import Path\n",
    "import requests\n",
    "import random\n",
    "import string"
   ]
  },
  {
   "cell_type": "code",
   "execution_count": 6,
   "metadata": {},
   "outputs": [],
   "source": [
    "from selenium.webdriver.firefox.options import Options #Used so that selenium doesn't open a Firefox window\n",
    "Options = Options()\n",
    "Options.headless = True #Yes, no Firefox window!\n",
    "driver = webdriver.Firefox(options=Options)\n",
    "webpage = \"https://capt.gov.kw/ar/\"\n",
    "driver.get(webpage)\n",
    "\n",
    "html = driver.page_source\n",
    "soup = BeautifulSoup(html)"
   ]
  },
  {
   "cell_type": "code",
   "execution_count": 7,
   "metadata": {},
   "outputs": [],
   "source": [
    "#Retrieve the table\n",
    "inner_table = soup.findAll('table', {\"class\":\"tenderpoptable2\"}) \n",
    "\n",
    "\n",
    "# Retrieve the head of the table.\n",
    "head = soup.find('thead') # Find the thead tag.\n",
    "column_name = head.find_all('th') \n",
    "columns = []\n",
    "for i in range(len(column_name)):\n",
    "    columns.append(column_name[i].text)\n",
    "columns[-1] = 'تحميل' # the 'download' column doesn't scrape the correct word, so we do that.\n",
    "\n",
    "# Retrieve rows\n",
    "rows = soup.findAll('tr')\n",
    "\n",
    "# write the records, prepare to be added to a Pandas Dataframe.\n",
    "records= []\n",
    "for row in rows:\n",
    "    record = []\n",
    "    cells = row.findAll('td')\n",
    "    for cell in cells:\n",
    "        record.append(cell.text)\n",
    "    records.append(record)\n",
    "records[1][-1]\n",
    "records.pop(0)\n",
    "\n",
    "# Create a Dataframe and add the data to it. \n",
    "df = pd.DataFrame(records, columns=columns) #Create Dataframe\n",
    "df = df.drop(list(range(15,31)))\n",
    "df.set_index(df['مسلسل البند'], drop=True, inplace=True) # change the index.\n",
    "df.drop(columns='مسلسل البند', inplace=True) #drop the column of the new index\n",
    "\n",
    "# The four lines below generates a random string to avoid overwriting when using the code periodically.\n",
    "abc = string.ascii_lowercase\n",
    "arbitrary_string = ''.join(random.choice(abc) for i in range(4))\n",
    "meetingtable_name = \"meetingstable_\"\n",
    "tablename = meetingtable_name + arbitrary_string + \".csv\"\n",
    "\n",
    "df.to_csv(tablename) # Save to computer as a csv file.\n",
    "\n",
    "\n",
    "# retrieve and prepare the meetings' pdf links for download.\n",
    "records= [] # due to laziness, I'm using the some already used variable.\n",
    "download_links = []\n",
    "original_link = ''\n",
    "for row in rows:\n",
    "    links = row.findAll('a', href=True)\n",
    "    for link in links:\n",
    "        #print(link['href'])\n",
    "        website = 'https://capt.gov.kw'\n",
    "        original_link = website + link['href']\n",
    "        #print(original_link)\n",
    "    download_links.append(original_link)\n",
    "download_links = download_links[1:16]\n",
    "\n",
    "###### \n",
    "\n",
    "\n",
    "\n",
    "\n",
    "\n",
    "\n",
    "\n",
    "\n",
    "initial_filename = '{}.pdf'\n",
    "for i in range(15):\n",
    "    # File name here is also randomized to avoid overwriting.\n",
    "    meetingfile_name = \"CAPTmeeting_\" + ''.join(random.choice(abc) for i in range(10))\n",
    "    filename = Path(initial_filename.format(meetingfile_name))\n",
    "    url = download_links[i]\n",
    "    response = requests.get(url)\n",
    "    filename.write_bytes(response.content)\n",
    "\n",
    "\n",
    "\n"
   ]
  },
  {
   "cell_type": "markdown",
   "metadata": {},
   "source": [
    "For inqueries, questions about the code, feedback or suggestions, contact: Email: majhoolism@gmail.com, Twitter: @Techtology."
   ]
  },
  {
   "cell_type": "code",
   "execution_count": null,
   "metadata": {},
   "outputs": [],
   "source": []
  }
 ],
 "metadata": {
  "kernelspec": {
   "display_name": "Python 3",
   "language": "python",
   "name": "python3"
  },
  "language_info": {
   "codemirror_mode": {
    "name": "ipython",
    "version": 3
   },
   "file_extension": ".py",
   "mimetype": "text/x-python",
   "name": "python",
   "nbconvert_exporter": "python",
   "pygments_lexer": "ipython3",
   "version": "3.6.8"
  }
 },
 "nbformat": 4,
 "nbformat_minor": 2
}
